---

# **Technical Requirements and Project Planning Report**  
## **Customer Sentiment Analysis Integration Project for Marketplaces**

---

### **1. Project Overview**

**Objective**: Develop a scalable infrastructure to centralize, process, and analyze customer sentiment data from **Amazon**, **Shopee**, and **Mercado Livre** marketplaces. Using RESTful APIs for data collection, middleware for orchestration and transformation, and an Azure Data Lake for storage and processing, the system will consolidate information for analysis and visualization on a Business Intelligence platform.

### **2. Business Objectives**

- **Enhancement of Customer Experience**: Provide customer service teams with insights into customer sentiment in marketplaces, improving response times and relationship strategies.
- **Product and Service Quality Improvement**: Enable real-time insights into customer perception, supporting rapid adjustments in product and market strategies.
- **Centralized Sentiment Data**: Integrate sentiment data into a single platform, eliminating the need for isolated queries to each marketplace.

---

### **3. Success KPIs**

- **Data Collection Latency**: Achieve a latency target of up to 5 seconds per API call to maintain efficient flow.
- **Sentiment Classification Accuracy**: Attain a minimum accuracy of 90% in sentiment categorization (positive, neutral, negative).
- **Average Pipeline Processing Time**: Processing target of up to 2 minutes for each data pipeline execution.
- **Customer Satisfaction Index (NPS - Net Promoter Score)**: Measured post-implementation to assess improvements in service quality and perceived value.

---

### **4. Project Modular Structure**

#### **4.1. API Collector**
   - **Functionality**: Automate data collection of reviews, feedback, and orders from each marketplace.
   - **Technologies Used**:
     - **Amazon MWS API**: Collects review and feedback data.
     - **Shopee Open API**: Access to customer and product data.
     - **Mercado Livre API**: Extracts order and feedback data.
   - **Authentication Requirements**: OAuth2 and AWS Signature v4.
   - **Execution Frequency**: 6-hour intervals (configurable).

#### **4.2. Data Orchestrator (Middleware)**
   - **Tool**: **Azure Logic Apps** (alternative: **Apache NiFi**)
   - **Functions**:
     - Initial data collection and transformation.
     - Field mapping and data structure normalization in JSON.
     - Data flow management to the Data Lake.
   - **Log Configuration**: Integration with **Azure Monitor** for failure alerts and monitoring.

#### **4.3. Sentiment Analysis Processor**
   - **Environment**: **Azure Databricks** with Spark.
   - **Functions**:
     - ETL pipeline for data cleaning and structuring.
     - Sentiment analysis using **Azure Cognitive Services - Text Analytics API**.
   - **Analysis Parameters**: Language (`language=en`), array of documents (feedback text).
   - **Output**: Sentiment classification (positive, neutral, negative) and confidence scores.

#### **4.4. Persistent Storage**
   - **Data Lake**: **Azure Data Lake Storage Gen2**
   - **Directory Structure**:
     - `/marketplaces/amazon/`: Raw data from Amazon.
     - `/marketplaces/shopee/`: Raw data from Shopee.
     - `/marketplaces/mercadolivre/`: Raw data from Mercado Livre.
   - **SQL Database**: **Azure SQL Database**
     - `sentiment_data` table structure:
       - Fields: `marketplace`, `product_id`, `sentiment_score`, `sentiment_category`, `review_text`, `timestamp`.
     - Backup and retention policies: Daily backup, 30-day retention.

#### **4.5. Visualization and BI**
   - **Platform**: **Power BI**
   - **Dashboards**:
     - Sentiment Analysis by Product and Marketplace.
     - Satisfaction Trends by Period.
     - Quality and Satisfaction KPIs.

---

### **5. Security and Compliance**

#### **Authentication and Authorization**
- **OAuth2** for marketplace APIs.
- **Azure Active Directory (AAD)** for Azure permissions management.
- **Tokenization and Encryption (AES-256)** for stored data.

#### **LGPD Compliance**
- **Data Anonymization**: Applied for sensitive customer information.
- **Retention Policy**: Raw data retained for 1 year, transformed data retained for 2 years.

#### **Responsibility Matrix**
| Area                                | Responsible              | Tools/Services                         |
|-------------------------------------|--------------------------|----------------------------------------|
| API Data Collection                 | Data Engineer            | APIs from Amazon, Shopee, Mercado Livre |
| Middleware and Orchestration        | Data Engineer            | Azure Logic Apps                       |
| Sentiment Analysis                  | Data Scientist           | Azure Databricks, Text Analytics API   |
| Storage and Compliance              | Data Administrator       | Azure Data Lake, Azure SQL Database    |
| Security and Audit                  | Security Specialist      | Azure Monitor, Azure Active Directory  |
| Visualization and Reporting         | BI Analyst               | Power BI                               |

---

### **6. Budget Model and Cost Estimation**

#### **Azure Data Lake and Databricks**
   - **Data Lake Storage**: $0.15 per GB/month (estimated at 50 GB).
   - **Databricks (Job Cluster)**: $0.10 per DBU (Databricks Unit), estimated at 200 DBUs/month.

#### **Azure Cognitive Services - Text Analytics API**
   - **Sentiment Analysis Cost**: $0.002 per text unit.
   - Estimate: 100,000 texts/month, totaling $200/month.

#### **Azure SQL Database and Power BI**
   - **SQL Database**: $30/month for basic plan.
   - **Power BI Pro**: $10/user/month.

Total estimated monthly cost: **~$500**, varying based on data volume and analysis.

---

### **7. Implementation Plan and Timeline**

#### **Phase 1: API and Middleware Configuration**
   - **Activities**: Set up data collection APIs and create workflows in Azure Logic Apps.
   - **Duration**: 2 weeks.
   - **Dependencies**: Marketplace access credentials.

#### **Phase 2: Data Lake and Sentiment Processing Setup**
   - **Activities**: Data Lake setup, Databricks configuration, and integration with Text Analytics API.
   - **Duration**: 3 weeks.
   - **Dependencies**: Middleware configuration completion.

#### **Phase 3: BI Visualization Configuration and Testing**
   - **Activities**: Connect Power BI to SQL Database, create dashboards.
   - **Duration**: 2 weeks.
   - **Dependencies**: Data Lake and SQL Database setup.

#### **Phase 4: Security and Compliance Testing**
   - **Activities**: Security testing, compliance review, and data encryption verification.
   - **Duration**: 1 week.
   - **Dependencies**: Completion of data pipeline and security configurations.

---

### **8. Monitoring and Maintenance**

#### **Pipeline Automation**
   - **Tool**: **Azure Automation**
   - **Function**: Continuous scheduling and monitoring of pipeline executions.

#### **Performance Monitoring and Alerts**
   - **Azure Monitor**: Configured to monitor API latency, processing time, and workflow execution status.
   - **Dashboard Configuration**: Panels for execution logs and performance monitoring.

---

### **Final Summary**

This project structures a robust data pipeline to centralize and analyze customer sentiment across multiple marketplaces, leveraging Azure cloud services. The modular architecture and security and compliance mechanisms ensure that the system is scalable, secure, and compliant with LGPD regulations, directly supporting the company’s goals in customer service and product strategy.

---

This updated format aligns with corporate standards, providing clarity for implementation and ensuring all involved teams have a clear roadmap to follow.
