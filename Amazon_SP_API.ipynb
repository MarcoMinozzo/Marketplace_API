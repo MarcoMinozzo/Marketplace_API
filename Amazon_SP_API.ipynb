{
  "nbformat": 4,
  "nbformat_minor": 0,
  "metadata": {
    "colab": {
      "provenance": [],
      "authorship_tag": "ABX9TyNK5WP0rbZW6KRMSLZptO9H",
      "include_colab_link": true
    },
    "kernelspec": {
      "name": "python3",
      "display_name": "Python 3"
    },
    "language_info": {
      "name": "python"
    }
  },
  "cells": [
    {
      "cell_type": "markdown",
      "metadata": {
        "id": "view-in-github",
        "colab_type": "text"
      },
      "source": [
        "<a href=\"https://colab.research.google.com/github/MarcoMinozzo/Marketplace_API/blob/main/Amazon_SP_API.ipynb\" target=\"_parent\"><img src=\"https://colab.research.google.com/assets/colab-badge.svg\" alt=\"Open In Colab\"/></a>"
      ]
    },
    {
      "cell_type": "markdown",
      "source": [
        "To obtain the variables listed in the table using **Amazon’s Selling Partner API (SP-API)**, here is a detailed overview of what data is directly available, the endpoints required, and alternative methods for data not directly accessible through the API.\n",
        "\n",
        "### 1. **Directly Available Variables in SP-API**\n",
        "\n",
        "| Data Category               | Variable Name              | Endpoint and Method                               |\n",
        "|-----------------------------|----------------------------|---------------------------------------------------|\n",
        "| **Customer Feedback**       | `feedback_rating`          | `GET /orders/v0/orders`                           |\n",
        "| **Customer Feedback**       | `feedback_comments`        | `GET /orders/v0/orders`                           |\n",
        "| **Customer Service Metrics**| `order_defect_rate`        | `GET /orders/v0/orders` or `GET /reports/v0/reports`|\n",
        "| **Customer Service Metrics**| `customer_service_metrics` | `GET /reports/v0/reports` (custom reports)        |\n",
        "| **Return Reasons**          | `return_reasons`           | `GET /returns/v0/returns`                         |\n",
        "| **Return Reasons**          | `buyer_messages`           | `GET /messaging/v1/messages`                      |\n",
        "\n",
        "### Explanation of Variables and How to Collect Them\n",
        "\n",
        "1. **Order Feedback (feedback_rating and feedback_comments)**:\n",
        "   - **Endpoint**: `GET /orders/v0/orders`\n",
        "   - **Description**: Customer feedback on orders is accessible through the Orders endpoint, allowing you to see general feedback through fields like `OrderStatus` and `buyerInfo`.\n",
        "   - **Example Parameter**: `{\"OrderStatuses\": [\"Shipped\"], \"CreatedAfter\": \"2023-01-01T00:00:00Z\"}` for filtered, specific orders.\n",
        "\n",
        "2. **Customer Service Metrics (order_defect_rate and customer_service_metrics)**:\n",
        "   - **Endpoint**: `GET /reports/v0/reports`\n",
        "   - **Description**: Metrics like order defect rate (`order_defect_rate`) can be accessed through custom reports. The reports endpoint offers the option to retrieve performance metrics, including customer service data.\n",
        "   - **Example Configuration**: A report with specific customer service metrics can be requested using the report type **\"GET_FLAT_FILE_ALL_ORDERS_DATA_BY_LAST_UPDATE_GENERAL\"**.\n",
        "\n",
        "3. **Return Reasons and Buyer Messages (return_reasons and buyer_messages)**:\n",
        "   - **Endpoints**: `GET /returns/v0/returns` for returns data and `GET /messaging/v1/messages` for buyer communications.\n",
        "   - **Description**: To access return data, including reasons (`return_reasons`), use the Returns endpoint. Buyer messages, such as feedback or inquiries, are available through the Messaging endpoint, helping identify complaints or frequent issues.\n",
        "\n",
        "### 2. **Variables Not Directly Accessible (Alternative Approaches)**\n",
        "\n",
        "Unfortunately, **Product Reviews** variables (`rating`, `review_text`, `review_title`, and `helpful_votes`) are not directly accessible through SP-API due to privacy policies. Here are alternatives:\n",
        "\n",
        "- **Alternative for Product Reviews**: Use third-party services or **review analytics APIs**, like **ReviewMeta** or **Fakespot**, which provide general insights into product ratings. Alternatively, social media or public review analysis platforms can supplement the information.\n",
        "\n",
        "### Code for Available Variables\n",
        "\n",
        "Below is a sample code snippet to retrieve **Order Feedback** and **Buyer Messages**:\n",
        "\n",
        "\n",
        "### Summary\n",
        "\n",
        "- **Order Feedback and Buyer Messages**: Available directly in SP-API.\n",
        "- **Product Reviews**: Not directly accessible; consider using third-party review analysis services.\n",
        "- **Returns and Service Metrics**: Accessible via specific SP-API endpoints.\n"
      ],
      "metadata": {
        "id": "2i9lRk9ahqy3"
      }
    },
    {
      "cell_type": "code",
      "source": [
        "import requests\n",
        "from datetime import datetime\n",
        "from botocore.auth import SigV4Auth\n",
        "from botocore.awsrequest import AWSRequest\n",
        "import boto3\n",
        "\n",
        "# SP-API Authentication\n",
        "AWS_ACCESS_KEY = 'YOUR_AWS_ACCESS_KEY'\n",
        "AWS_SECRET_KEY = 'YOUR_AWS_SECRET_KEY'\n",
        "AWS_REGION = 'us-east-1'\n",
        "ACCESS_TOKEN = 'YOUR_LWA_ACCESS_TOKEN'\n",
        "\n",
        "# Order Feedback\n",
        "def fetch_order_feedback():\n",
        "    endpoint = \"https://sellingpartnerapi-na.amazon.com\"\n",
        "    path = \"/orders/v0/orders\"\n",
        "    url = f\"{endpoint}{path}\"\n",
        "    params = {\n",
        "        'MarketplaceIds': 'ATVPDKIKX0DER',\n",
        "        'CreatedAfter': '2023-01-01T00:00:00Z',\n",
        "    }\n",
        "    headers = {\n",
        "        'x-amz-access-token': ACCESS_TOKEN,\n",
        "        'x-amz-date': datetime.utcnow().strftime('%Y%m%dT%H%M%SZ'),\n",
        "        'Host': 'sellingpartnerapi-na.amazon.com'\n",
        "    }\n",
        "    request = AWSRequest(method=\"GET\", url=url, params=params, headers=headers)\n",
        "    SigV4Auth(boto3.Session().get_credentials(), \"execute-api\", AWS_REGION).add_auth(request)\n",
        "    response = requests.get(url, headers=dict(request.headers), params=params)\n",
        "    if response.status_code == 200:\n",
        "        return response.json()\n",
        "    else:\n",
        "        print(\"Error:\", response.status_code, response.text)\n",
        "        return None\n",
        "\n",
        "# Buyer Messages\n",
        "def fetch_buyer_messages():\n",
        "    endpoint = \"https://sellingpartnerapi-na.amazon.com\"\n",
        "    path = \"/messaging/v1/messages\"\n",
        "    url = f\"{endpoint}{path}\"\n",
        "    headers = {\n",
        "        'x-amz-access-token': ACCESS_TOKEN,\n",
        "        'x-amz-date': datetime.utcnow().strftime('%Y%m%dT%H%M%SZ'),\n",
        "        'Host': 'sellingpartnerapi-na.amazon.com'\n",
        "    }\n",
        "    request = AWSRequest(method=\"GET\", url=url, headers=headers)\n",
        "    SigV4Auth(boto3.Session().get_credentials(), \"execute-api\", AWS_REGION).add_auth(request)\n",
        "    response = requests.get(url, headers=dict(request.headers))\n",
        "    if response.status_code == 200:\n",
        "        return response.json()\n",
        "    else:\n",
        "        print(\"Error:\", response.status_code, response.text)\n",
        "        return None\n",
        "\n",
        "# Run functions\n",
        "order_feedback = fetch_order_feedback()\n",
        "buyer_messages = fetch_buyer_messages()\n",
        "print(order_feedback)\n",
        "print(buyer_messages)"
      ],
      "metadata": {
        "id": "FxIc1F43iXYr"
      },
      "execution_count": null,
      "outputs": []
    }
  ]
}