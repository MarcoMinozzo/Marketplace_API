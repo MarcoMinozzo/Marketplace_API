{
  "nbformat": 4,
  "nbformat_minor": 0,
  "metadata": {
    "colab": {
      "provenance": [],
      "authorship_tag": "ABX9TyPMgkPKa01jiW7ucJVuLGLF",
      "include_colab_link": true
    },
    "kernelspec": {
      "name": "python3",
      "display_name": "Python 3"
    },
    "language_info": {
      "name": "python"
    }
  },
  "cells": [
    {
      "cell_type": "markdown",
      "metadata": {
        "id": "view-in-github",
        "colab_type": "text"
      },
      "source": [
        "<a href=\"https://colab.research.google.com/github/MarcoMinozzo/Marketplace_API/blob/main/variables_description.ipynb\" target=\"_parent\"><img src=\"https://colab.research.google.com/assets/colab-badge.svg\" alt=\"Open In Colab\"/></a>"
      ]
    },
    {
      "cell_type": "markdown",
      "source": [
        "**Amazon variables:**\n",
        "\n",
        "| Data Category            | Variable Name           | Description                                                                                     | Data Type       |\n",
        "|--------------------------|-------------------------|-------------------------------------------------------------------------------------------------|-----------------|\n",
        "| Product Reviews          | rating                  | Numeric rating given by the customer (1-5 stars)                                                | Integer         |\n",
        "| Product Reviews          | review_text             | Textual review written by the customer detailing their experience                               | Text            |\n",
        "| Product Reviews          | review_title            | Title of the review, often summarizing the sentiment                                            | Text            |\n",
        "| Product Reviews          | helpful_votes           | Number of votes indicating how helpful the review was to other users                            | Integer         |\n",
        "| Customer Feedback        | feedback_rating         | Rating of the seller, indicating satisfaction with service (1-5 stars)                          | Integer         |\n",
        "| Customer Feedback        | feedback_comments       | Additional feedback comments on customer experience with the seller                             | Text            |\n",
        "| Customer Service Metrics | order_defect_rate       | Overall order defect rate indicating the quality of the purchase experience                     | Float           |\n",
        "| Customer Service Metrics | customer_service_metrics| Metrics reflecting customer service performance (e.g., response time)                           | Dictionary (JSON)|\n",
        "| Return Reasons           | return_reasons          | Reason(s) provided by the customer for returning a product                                      | Text            |\n",
        "| Return Reasons           | buyer_messages          | Messages from buyers to sellers, potentially indicating feedback or complaints                  | Text            |\n",
        "\n",
        "\n",
        "**Shopee Variables:**\n",
        "\n",
        "| Data Category            | Variable Name           | Description                                                                                       | Data Type       |\n",
        "|--------------------------|-------------------------|---------------------------------------------------------------------------------------------------|-----------------|\n",
        "| Product Reviews          | rating                  | Numeric rating given by the customer (typically 1-5 stars)                                        | Integer         |\n",
        "| Product Reviews          | review_text             | Detailed text review by the customer about their experience                                       | Text            |\n",
        "| Product Reviews          | review_images           | Images uploaded by the customer along with the review                                             | Array (URLs)    |\n",
        "| Product Reviews          | review_date             | Date the review was posted by the customer                                                        | DateTime        |\n",
        "| Customer Feedback        | feedback_rating         | Rating of the seller based on the transaction (1-5 stars)                                         | Integer         |\n",
        "| Customer Feedback        | feedback_comments       | Additional comments regarding the customer’s experience with the seller                           | Text            |\n",
        "| Customer Service Metrics | response_time           | Average response time of the seller to customer inquiries                                         | Integer (seconds)|\n",
        "| Customer Service Metrics | cancellation_rate       | Rate of order cancellations by the seller, indicating reliability and service quality             | Float           |\n",
        "| Return Reasons           | return_reason           | Reason(s) provided by the customer for returning a product                                        | Text            |\n",
        "| Return Reasons           | return_date             | Date the return request was made by the customer                                                  | DateTime        |\n",
        "| Buyer Messages           | buyer_messages          | Messages or inquiries sent by the buyer to the seller, potentially containing complaints or feedback| Text           |\n",
        "\n",
        "\n",
        "**Mercado Livre Variables:**\n",
        "\n",
        "| Data Category            | Variable Name           | Description                                                                                       | Data Type       |\n",
        "|--------------------------|-------------------------|---------------------------------------------------------------------------------------------------|-----------------|\n",
        "| Product Reviews          | rating                  | Classificação numérica dada pelo cliente (1-5 estrelas)                                           | Integer         |\n",
        "| Product Reviews          | review_text             | Texto da avaliação detalhando a experiência do cliente                                            | Text            |\n",
        "| Customer Feedback        | feedback_score          | Pontuação de feedback para o pedido (positivo, neutro, negativo)                                  | String          |\n",
        "| Customer Feedback        | feedback_comments       | Comentários adicionais sobre a transação e a qualidade do serviço                                 | Text            |\n",
        "| Customer Service Metrics | response_time           | Tempo médio de resposta do vendedor a perguntas dos clientes                                      | Integer (segundos) |\n",
        "| Customer Service Metrics | cancellation_rate       | Taxa de cancelamento de pedidos, indicando qualidade de serviço                                   | Float           |\n",
        "| Post-sale Messages       | buyer_message_text      | Texto da mensagem do comprador para o vendedor, incluindo dúvidas ou reclamações                  | Text            |\n",
        "| Post-sale Messages       | buyer_message_status    | Status da mensagem (ex.: respondida, não respondida)                                              | String          |\n",
        "| Order Returns            | return_reason           | Motivo para devolução do produto informado pelo cliente                                           | Text            |\n",
        "| Order Returns            | return_date             | Data de solicitação de devolução                                                                  | DateTime        |\n",
        "\n"
      ],
      "metadata": {
        "id": "Ig-SCswEYL3_"
      }
    }
  ]
}